{
 "cells": [
  {
   "cell_type": "markdown",
   "id": "guided-cooling",
   "metadata": {},
   "source": [
    "# dev for LPO family handling\n",
    "\n",
    "Yuri Shimane, 2021/07/06"
   ]
  },
  {
   "cell_type": "code",
   "execution_count": 12,
   "id": "dramatic-vietnamese",
   "metadata": {},
   "outputs": [],
   "source": [
    "using LinearAlgebra\n",
    "using DataFrames\n",
    "using Plots\n",
    "using DifferentialEquations"
   ]
  },
  {
   "cell_type": "code",
   "execution_count": 2,
   "id": "unexpected-father",
   "metadata": {},
   "outputs": [
    {
     "data": {
      "text/plain": [
       "Plots.GRBackend()"
      ]
     },
     "execution_count": 2,
     "metadata": {},
     "output_type": "execute_result"
    }
   ],
   "source": [
    "gr()"
   ]
  },
  {
   "cell_type": "code",
   "execution_count": 91,
   "id": "helpful-particle",
   "metadata": {},
   "outputs": [
    {
     "name": "stderr",
     "output_type": "stream",
     "text": [
      "WARNING: replacing module R3BP.\n"
     ]
    },
    {
     "data": {
      "text/plain": [
       "Main.R3BP"
      ]
     },
     "execution_count": 91,
     "metadata": {},
     "output_type": "execute_result"
    }
   ],
   "source": [
    "# push!(LOAD_PATH, \"../R3BP/src\")\n",
    "# using R3BP\n",
    "include(\"../R3BP/src/R3BP.jl\")"
   ]
  },
  {
   "cell_type": "code",
   "execution_count": 87,
   "id": "introductory-conflict",
   "metadata": {},
   "outputs": [
    {
     "data": {
      "text/plain": [
       "Tsit5()"
      ]
     },
     "execution_count": 87,
     "metadata": {},
     "output_type": "execute_result"
    }
   ],
   "source": [
    "reltol = 1.e-13\n",
    "abstol = 1.e-13\n",
    "method = Tsit5()"
   ]
  },
  {
   "cell_type": "code",
   "execution_count": 88,
   "id": "stone-triangle",
   "metadata": {},
   "outputs": [
    {
     "name": "stdout",
     "output_type": "stream",
     "text": [
      "Halo guess Az_km: 260000.0\n",
      "Converged at iteration 5\n"
     ]
    }
   ],
   "source": [
    "# construct halo\n",
    "CR3BP_param = R3BP.get_cr3bp_param(10, 299)\n",
    "lp = 2\n",
    "Az_km = 260*1e3\n",
    "println(\"Halo guess Az_km: $Az_km\")\n",
    "northsouth = 3   # 1 or 3\n",
    "guess0 = R3BP.halo_analytical_construct(CR3BP_param.mu, lp, Az_km, CR3BP_param.lstar, northsouth)\n",
    "res = R3BP.ssdc_periodic_xzplane(CR3BP_param.mu, guess0.x0, guess0.period, fix=\"z\");"
   ]
  },
  {
   "cell_type": "code",
   "execution_count": 89,
   "id": "professional-soviet",
   "metadata": {},
   "outputs": [
    {
     "data": {
      "text/html": [
       "<table class=\"data-frame\"><thead><tr><th></th><th>family</th><th>m1</th><th>m2</th><th>mu</th><th>period</th><th>stability</th><th>sv_rx</th><th>sv_ry</th><th>sv_rz</th></tr><tr><th></th><th>String</th><th>Int64</th><th>Int64</th><th>Float64</th><th>Float64</th><th>Float64</th><th>Float64</th><th>Float64</th><th>Float64</th></tr></thead><tbody><p>1 rows × 12 columns (omitted printing of 3 columns)</p><tr><th>1</th><td>halo_3</td><td>10</td><td>299</td><td>2.44783e-6</td><td>3.09196</td><td>669.383</td><td>1.00726</td><td>0.0</td><td>-0.00214756</td></tr></tbody></table>"
      ],
      "text/latex": [
       "\\begin{tabular}{r|cccccccccc}\n",
       "\t& family & m1 & m2 & mu & period & stability & sv\\_rx & sv\\_ry & sv\\_rz & \\\\\n",
       "\t\\hline\n",
       "\t& String & Int64 & Int64 & Float64 & Float64 & Float64 & Float64 & Float64 & Float64 & \\\\\n",
       "\t\\hline\n",
       "\t1 & halo\\_3 & 10 & 299 & 2.44783e-6 & 3.09196 & 669.383 & 1.00726 & 0.0 & -0.00214756 & $\\dots$ \\\\\n",
       "\\end{tabular}\n"
      ],
      "text/plain": [
       "\u001b[1m1×12 DataFrame\u001b[0m\n",
       "\u001b[1m Row \u001b[0m│\u001b[1m family \u001b[0m\u001b[1m m1    \u001b[0m\u001b[1m m2    \u001b[0m\u001b[1m mu         \u001b[0m\u001b[1m period  \u001b[0m\u001b[1m stability \u001b[0m\u001b[1m sv_rx   \u001b[0m\u001b[1m sv_ry   \u001b[0m\u001b[1m\u001b[0m ⋯\n",
       "\u001b[1m     \u001b[0m│\u001b[90m String \u001b[0m\u001b[90m Int64 \u001b[0m\u001b[90m Int64 \u001b[0m\u001b[90m Float64    \u001b[0m\u001b[90m Float64 \u001b[0m\u001b[90m Float64   \u001b[0m\u001b[90m Float64 \u001b[0m\u001b[90m Float64 \u001b[0m\u001b[90m\u001b[0m ⋯\n",
       "─────┼──────────────────────────────────────────────────────────────────────────\n",
       "   1 │ halo_3     10    299  2.44783e-6  3.09196    669.383  1.00726      0.0  ⋯\n",
       "\u001b[36m                                                               4 columns omitted\u001b[0m"
      ]
     },
     "execution_count": 89,
     "metadata": {},
     "output_type": "execute_result"
    }
   ],
   "source": [
    "familyname = \"halo_3\"\n",
    "df = R3BP.lpo2df(CR3BP_param.mu, res.x0, res.period, 10, 299, lp, familyname)"
   ]
  },
  {
   "cell_type": "code",
   "execution_count": 90,
   "id": "proof-provision",
   "metadata": {},
   "outputs": [
    {
     "data": {
      "text/html": [
       "<table class=\"data-frame\"><thead><tr><th></th><th>family</th><th>m1</th><th>m2</th><th>mu</th><th>period</th><th>stability</th><th>sv_rx</th><th>sv_ry</th><th>sv_rz</th></tr><tr><th></th><th>String</th><th>Int64</th><th>Int64</th><th>Float64</th><th>Float64</th><th>Float64</th><th>Float64</th><th>Float64</th><th>Float64</th></tr></thead><tbody><p>2 rows × 12 columns (omitted printing of 3 columns)</p><tr><th>1</th><td>halo_3</td><td>10</td><td>299</td><td>2.44783e-6</td><td>3.09196</td><td>669.383</td><td>1.00726</td><td>0.0</td><td>-0.00214756</td></tr><tr><th>2</th><td>halo_3</td><td>10</td><td>299</td><td>2.44783e-6</td><td>3.09196</td><td>669.383</td><td>1.00726</td><td>0.0</td><td>-0.00214756</td></tr></tbody></table>"
      ],
      "text/latex": [
       "\\begin{tabular}{r|cccccccccc}\n",
       "\t& family & m1 & m2 & mu & period & stability & sv\\_rx & sv\\_ry & sv\\_rz & \\\\\n",
       "\t\\hline\n",
       "\t& String & Int64 & Int64 & Float64 & Float64 & Float64 & Float64 & Float64 & Float64 & \\\\\n",
       "\t\\hline\n",
       "\t1 & halo\\_3 & 10 & 299 & 2.44783e-6 & 3.09196 & 669.383 & 1.00726 & 0.0 & -0.00214756 & $\\dots$ \\\\\n",
       "\t2 & halo\\_3 & 10 & 299 & 2.44783e-6 & 3.09196 & 669.383 & 1.00726 & 0.0 & -0.00214756 & $\\dots$ \\\\\n",
       "\\end{tabular}\n"
      ],
      "text/plain": [
       "\u001b[1m2×12 DataFrame\u001b[0m\n",
       "\u001b[1m Row \u001b[0m│\u001b[1m family \u001b[0m\u001b[1m m1    \u001b[0m\u001b[1m m2    \u001b[0m\u001b[1m mu         \u001b[0m\u001b[1m period  \u001b[0m\u001b[1m stability \u001b[0m\u001b[1m sv_rx   \u001b[0m\u001b[1m sv_ry   \u001b[0m\u001b[1m\u001b[0m ⋯\n",
       "\u001b[1m     \u001b[0m│\u001b[90m String \u001b[0m\u001b[90m Int64 \u001b[0m\u001b[90m Int64 \u001b[0m\u001b[90m Float64    \u001b[0m\u001b[90m Float64 \u001b[0m\u001b[90m Float64   \u001b[0m\u001b[90m Float64 \u001b[0m\u001b[90m Float64 \u001b[0m\u001b[90m\u001b[0m ⋯\n",
       "─────┼──────────────────────────────────────────────────────────────────────────\n",
       "   1 │ halo_3     10    299  2.44783e-6  3.09196    669.383  1.00726      0.0  ⋯\n",
       "   2 │ halo_3     10    299  2.44783e-6  3.09196    669.383  1.00726      0.0\n",
       "\u001b[36m                                                               4 columns omitted\u001b[0m"
      ]
     },
     "execution_count": 90,
     "metadata": {},
     "output_type": "execute_result"
    }
   ],
   "source": [
    "familyname = \"halo_3\"\n",
    "df = R3BP.lpo2df!(df, CR3BP_param.mu, res.x0, res.period, 10, 299, lp, familyname)"
   ]
  },
  {
   "cell_type": "code",
   "execution_count": null,
   "id": "exotic-palace",
   "metadata": {},
   "outputs": [],
   "source": []
  },
  {
   "cell_type": "code",
   "execution_count": null,
   "id": "athletic-sullivan",
   "metadata": {},
   "outputs": [],
   "source": []
  },
  {
   "cell_type": "code",
   "execution_count": null,
   "id": "adverse-metabolism",
   "metadata": {},
   "outputs": [],
   "source": []
  }
 ],
 "metadata": {
  "kernelspec": {
   "display_name": "Julia 1.7.0",
   "language": "julia",
   "name": "julia-1.7"
  },
  "language_info": {
   "file_extension": ".jl",
   "mimetype": "application/julia",
   "name": "julia",
   "version": "1.7.0"
  }
 },
 "nbformat": 4,
 "nbformat_minor": 5
}
