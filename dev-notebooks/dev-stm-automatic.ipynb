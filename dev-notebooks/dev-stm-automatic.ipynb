{
 "cells": [
  {
   "cell_type": "markdown",
   "id": "dependent-lexington",
   "metadata": {},
   "source": [
    "# STM construction via AD\n",
    "\n",
    "Tutorial: https://diffeq.sciml.ai/stable/analysis/sensitivity/\n",
    "\n",
    "Yuri Shimane, 2021/04/17"
   ]
  },
  {
   "cell_type": "code",
   "execution_count": 6,
   "id": "changed-motor",
   "metadata": {},
   "outputs": [],
   "source": [
    "using DiffEqSensitivity\n",
    "using DifferentialEquations  #OrdinaryDiffEq\n",
    "using ForwardDiff\n",
    "#Zygote\n",
    "using Plots\n",
    "using Printf"
   ]
  },
  {
   "cell_type": "code",
   "execution_count": 8,
   "id": "adjusted-anxiety",
   "metadata": {},
   "outputs": [],
   "source": [
    "#using DiffEqSensitivity, OrdinaryDiffEq, ForwardDiff, Zygote\n",
    "\n",
    "function fiip(du,u,p,t)\n",
    "  du[1] = dx = p[1]*u[1] - p[2]*u[1]*u[2]\n",
    "  du[2] = dy = -p[3]*u[2] + p[4]*u[1]*u[2]\n",
    "end\n",
    "p = [1.5,1.0,3.0,1.0]; u0 = [1.0;1.0]\n",
    "prob = ODEProblem(fiip,u0,(0.0,10.0),p)\n",
    "sol = solve(prob,Tsit5());"
   ]
  },
  {
   "cell_type": "code",
   "execution_count": null,
   "id": "incorrect-richmond",
   "metadata": {},
   "outputs": [],
   "source": []
  },
  {
   "cell_type": "code",
   "execution_count": 9,
   "id": "silver-marathon",
   "metadata": {},
   "outputs": [
    {
     "data": {
      "text/plain": [
       "6-element Array{Float64,1}:\n",
       "  -39.311692692446734\n",
       "   -8.652910214534808\n",
       "    7.506621353380723\n",
       " -159.31905121408792\n",
       "   74.99699868497443\n",
       " -339.32236724768387"
      ]
     },
     "execution_count": 9,
     "metadata": {},
     "output_type": "execute_result"
    }
   ],
   "source": [
    "function sum_of_solution(x)\n",
    "    _prob = remake(prob, u0=x[1:2], p=x[3:end])\n",
    "    sum(solve(_prob,Tsit5(),saveat=0.1))\n",
    "end\n",
    "dx = ForwardDiff.gradient(sum_of_solution,[u0;p])"
   ]
  },
  {
   "cell_type": "code",
   "execution_count": null,
   "id": "precise-covering",
   "metadata": {},
   "outputs": [],
   "source": []
  },
  {
   "cell_type": "code",
   "execution_count": null,
   "id": "angry-savannah",
   "metadata": {},
   "outputs": [],
   "source": []
  }
 ],
 "metadata": {
  "kernelspec": {
   "display_name": "Julia 1.5.3",
   "language": "julia",
   "name": "julia-1.5"
  },
  "language_info": {
   "file_extension": ".jl",
   "mimetype": "application/julia",
   "name": "julia",
   "version": "1.5.3"
  }
 },
 "nbformat": 4,
 "nbformat_minor": 5
}
