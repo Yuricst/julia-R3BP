{
 "cells": [
  {
   "cell_type": "markdown",
   "id": "combined-eating",
   "metadata": {},
   "source": [
    "# Benchmarking functions in R3BP\n",
    "\n",
    "Yuri Shimane, 2021.07.08"
   ]
  },
  {
   "cell_type": "code",
   "execution_count": 1,
   "id": "comparable-rebound",
   "metadata": {},
   "outputs": [],
   "source": [
    "using LinearAlgebra\n",
    "using DifferentialEquations\n",
    "using BenchmarkTools\n",
    "using Plots"
   ]
  },
  {
   "cell_type": "code",
   "execution_count": 2,
   "id": "heard-letters",
   "metadata": {},
   "outputs": [
    {
     "data": {
      "text/plain": [
       "Plots.PyPlotBackend()"
      ]
     },
     "execution_count": 2,
     "metadata": {},
     "output_type": "execute_result"
    }
   ],
   "source": [
    "pyplot()"
   ]
  },
  {
   "cell_type": "code",
   "execution_count": 13,
   "id": "important-minute",
   "metadata": {},
   "outputs": [
    {
     "name": "stderr",
     "output_type": "stream",
     "text": [
      "WARNING: replacing module R3BP.\n"
     ]
    },
    {
     "data": {
      "text/plain": [
       "Main.R3BP"
      ]
     },
     "execution_count": 13,
     "metadata": {},
     "output_type": "execute_result"
    }
   ],
   "source": [
    "include(\"../R3BP/src/R3BP.jl\")"
   ]
  },
  {
   "cell_type": "code",
   "execution_count": 7,
   "id": "fluid-edwards",
   "metadata": {},
   "outputs": [
    {
     "name": "stdout",
     "output_type": "stream",
     "text": [
      "mu: 0.012150584269940354\n"
     ]
    },
    {
     "data": {
      "text/plain": [
       "-10.0"
      ]
     },
     "execution_count": 7,
     "metadata": {},
     "output_type": "execute_result"
    }
   ],
   "source": [
    "params = R3BP.get_cr3bp_param(399, 301)\n",
    "mu = params.mu\n",
    "println(\"mu: $mu\")\n",
    "lp = R3BP.lagrangePoints(mu)\n",
    "\n",
    "# initial condition of halo\n",
    "X0 = [1.176924090973164, 0.0, -0.060210863312217, 0.0, -0.173836346247689, 0.0]\n",
    "T = 3.385326412831325\n",
    "\n",
    "# parameters for manifolds\n",
    "stability = true;\n",
    "tf = -10.0"
   ]
  },
  {
   "cell_type": "code",
   "execution_count": 12,
   "id": "critical-settle",
   "metadata": {},
   "outputs": [
    {
     "data": {
      "text/plain": [
       "EnsembleSolution Solution of length 50 with uType:\n",
       "ODESolution{Float64,3,Array{Array{Float64,2},1},Nothing,Nothing,Array{Float64,1},Array{Array{Array{Float64,2},1},1},ODEProblem{Array{Float64,2},Tuple{Float64,Float64},true,Float64,ODEFunction{true,typeof(Main.R3BP.rhs_cr3bp_sv!),UniformScaling{Bool},Nothing,Nothing,Nothing,Nothing,Nothing,Nothing,Nothing,Nothing,Nothing,Nothing,Nothing,Nothing,typeof(SciMLBase.DEFAULT_OBSERVED),Nothing},Base.Iterators.Pairs{Union{},Union{},Tuple{},NamedTuple{(),Tuple{}}},SciMLBase.StandardODEProblem},Tsit5,OrdinaryDiffEq.InterpolationData{ODEFunction{true,typeof(Main.R3BP.rhs_cr3bp_sv!),UniformScaling{Bool},Nothing,Nothing,Nothing,Nothing,Nothing,Nothing,Nothing,Nothing,Nothing,Nothing,Nothing,Nothing,typeof(SciMLBase.DEFAULT_OBSERVED),Nothing},Array{Array{Float64,2},1},Array{Float64,1},Array{Array{Array{Float64,2},1},1},OrdinaryDiffEq.Tsit5Cache{Array{Float64,2},Array{Float64,2},Array{Float64,2},OrdinaryDiffEq.Tsit5ConstantCache{Float64,Float64}}},DiffEqBase.DEStats}"
      ]
     },
     "execution_count": 12,
     "metadata": {},
     "output_type": "execute_result"
    }
   ],
   "source": [
    "outsim = R3BP.get_manifold(mu, X0, T, tf, stability; lstar=params.lstar, callback=nothing, xdir=\"negative\")"
   ]
  },
  {
   "cell_type": "code",
   "execution_count": 10,
   "id": "catholic-swiss",
   "metadata": {},
   "outputs": [
    {
     "data": {
      "text/plain": [
       "BenchmarkTools.Trial: \n",
       "  memory estimate:  110.51 MiB\n",
       "  allocs estimate:  846268\n",
       "  --------------\n",
       "  minimum time:     105.128 ms (0.00% GC)\n",
       "  median time:      135.179 ms (17.86% GC)\n",
       "  mean time:        139.960 ms (21.03% GC)\n",
       "  maximum time:     283.738 ms (63.64% GC)\n",
       "  --------------\n",
       "  samples:          36\n",
       "  evals/sample:     1"
      ]
     },
     "execution_count": 10,
     "metadata": {},
     "output_type": "execute_result"
    }
   ],
   "source": [
    "@benchmark outsim = R3BP.get_manifold(mu, X0, T, tf, stability; lstar=params.lstar, callback=nothing, xdir=\"negative\")"
   ]
  },
  {
   "cell_type": "code",
   "execution_count": null,
   "id": "fabulous-container",
   "metadata": {},
   "outputs": [],
   "source": [
    "plot(outsim, linealpha=0.4, vars=(1,2), flip=false, aspect_ratio=:equal, size=(800,650), c=:orangered,\n",
    "     frame_style=:box, gridalpha=0.4, xlabel=\"x\", ylabel=\"y\")"
   ]
  },
  {
   "cell_type": "code",
   "execution_count": null,
   "id": "ahead-merchant",
   "metadata": {},
   "outputs": [],
   "source": [
    "R3BP.get_manifold_ps(outsim)"
   ]
  },
  {
   "cell_type": "code",
   "execution_count": null,
   "id": "treated-anaheim",
   "metadata": {},
   "outputs": [],
   "source": []
  },
  {
   "cell_type": "code",
   "execution_count": null,
   "id": "tribal-enough",
   "metadata": {},
   "outputs": [],
   "source": []
  },
  {
   "cell_type": "code",
   "execution_count": null,
   "id": "supreme-accused",
   "metadata": {},
   "outputs": [],
   "source": []
  }
 ],
 "metadata": {
  "kernelspec": {
   "display_name": "Julia 1.5.3",
   "language": "julia",
   "name": "julia-1.5"
  },
  "language_info": {
   "file_extension": ".jl",
   "mimetype": "application/julia",
   "name": "julia",
   "version": "1.5.3"
  }
 },
 "nbformat": 4,
 "nbformat_minor": 5
}
