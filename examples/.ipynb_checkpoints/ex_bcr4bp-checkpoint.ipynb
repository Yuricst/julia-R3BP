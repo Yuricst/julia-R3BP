{
 "cells": [
  {
   "cell_type": "markdown",
   "metadata": {},
   "source": [
    "# BCR4BP propagation test\n",
    "\n",
    "Yuri Shimane, 2021/05/30"
   ]
  },
  {
   "cell_type": "code",
   "execution_count": 1,
   "metadata": {},
   "outputs": [
    {
     "ename": "LoadError",
     "evalue": "ArgumentError: Package LSODA not found in current path:\n- Run `import Pkg; Pkg.add(\"LSODA\")` to install the LSODA package.\n",
     "output_type": "error",
     "traceback": [
      "ArgumentError: Package LSODA not found in current path:\n- Run `import Pkg; Pkg.add(\"LSODA\")` to install the LSODA package.\n",
      "",
      "Stacktrace:",
      " [1] require(into::Module, mod::Symbol)",
      "   @ Base .\\loading.jl:967"
     ]
    }
   ],
   "source": [
    "using LinearAlgebra\n",
    "using DifferentialEquations\n",
    "using Plots\n",
    "using LSODA"
   ]
  },
  {
   "cell_type": "code",
   "execution_count": 2,
   "metadata": {},
   "outputs": [
    {
     "data": {
      "text/plain": [
       "Plots.GRBackend()"
      ]
     },
     "execution_count": 2,
     "metadata": {},
     "output_type": "execute_result"
    }
   ],
   "source": [
    "gr()"
   ]
  },
  {
   "cell_type": "code",
   "execution_count": null,
   "metadata": {},
   "outputs": [],
   "source": [
    "include(\"../R3BP/src/R3BP.jl\")"
   ]
  },
  {
   "cell_type": "code",
   "execution_count": null,
   "metadata": {},
   "outputs": [],
   "source": [
    "\"\"\"\n",
    "    list_to_plotarray(sollist, state_idx_x, state_idx_y)\n",
    "\n",
    "Function for plotting from list of states in 2D\n",
    "\"\"\"\n",
    "function list_to_plotarray(sollist, state_idx_x, state_idx_y)\n",
    "    x_plot, y_plot = [], []\n",
    "    for k = 1:length(sollist)\n",
    "        push!(x_plot, sollist[k][state_idx_x])\n",
    "        push!(y_plot, sollist[k][state_idx_y])\n",
    "    end\n",
    "    return x_plot, y_plot\n",
    "end\n",
    "\n"
   ]
  },
  {
   "cell_type": "code",
   "execution_count": null,
   "metadata": {},
   "outputs": [],
   "source": [
    "params = R3BP.get_cr3bp_param(399, 301)\n",
    "mu = params.mu"
   ]
  },
  {
   "cell_type": "code",
   "execution_count": null,
   "metadata": {},
   "outputs": [],
   "source": [
    "paramsBCR4BP = R3BP.get_bcr4bp_param(\"399\", \"301\")"
   ]
  },
  {
   "cell_type": "code",
   "execution_count": null,
   "metadata": {},
   "outputs": [],
   "source": [
    "paramsBCR4BP.a"
   ]
  },
  {
   "cell_type": "code",
   "execution_count": null,
   "metadata": {},
   "outputs": [],
   "source": [
    "# initial state\n",
    "x0 = [0.9853006895390061, 0.0021723003109550003, 0.0034046027917,\n",
    "      -1.198746524193054, 1.038423839870351, -1.559959799100589]\n",
    "tof = -8618330.44810824/params.tstar   # [sec] -> [canonical]\n",
    "t0 = 6.1766906409562035 * π/180  # should be β_s\n",
    "println(\"tof: $tof\")"
   ]
  },
  {
   "cell_type": "code",
   "execution_count": null,
   "metadata": {},
   "outputs": [],
   "source": [
    "# p[1] = μ, p[2] = μ_3, p[3] = t0, p[4] = a, p[5] = ω_s\n",
    "tspan = (0.0, tof)\n",
    "p = (paramsBCR4BP.mu, paramsBCR4BP.μ_3, t0, paramsBCR4BP.a, paramsBCR4BP.ω_s)"
   ]
  },
  {
   "cell_type": "code",
   "execution_count": null,
   "metadata": {},
   "outputs": [],
   "source": [
    "# BCR4BP propagation\n",
    "prob = ODEProblem(R3BP.rhs_bcr4bp_sv!, x0, tspan, p)\n",
    "sol = solve(prob, Tsit5(), reltol=1e-12, abstol=1e-12);"
   ]
  },
  {
   "cell_type": "code",
   "execution_count": null,
   "metadata": {},
   "outputs": [],
   "source": [
    "# sols = []\n",
    "# t0_test = t0 .+ LinRange(-1.5, 1.5, 100)\n",
    "# for t0_try in t0_test\n",
    "#     p_test = (paramsBCR4BP.mu, paramsBCR4BP.μ_3, t0_try, paramsBCR4BP.a, paramsBCR4BP.ω_s)\n",
    "#     prob2 = remake(prob, p=p_test)\n",
    "#     sol_iter = solve(prob2, Tsit5(), reltol=1e-12, abstol=1e-12);\n",
    "#     push!(sols, sol_iter)\n",
    "# end"
   ]
  },
  {
   "cell_type": "code",
   "execution_count": null,
   "metadata": {},
   "outputs": [],
   "source": [
    "# ptraj1 = plot(aspect_ratio=:equal, flip=false)\n",
    "# for sol_iter in sols\n",
    "#     plot!(ptraj1, sol_iter, vars=(1,2), flip=false)\n",
    "# end\n",
    "# ptraj1"
   ]
  },
  {
   "cell_type": "code",
   "execution_count": null,
   "metadata": {},
   "outputs": [],
   "source": []
  },
  {
   "cell_type": "code",
   "execution_count": null,
   "metadata": {},
   "outputs": [],
   "source": [
    "# CR3BP propagation\n",
    "prob_3bp = ODEProblem(R3BP.rhs_cr3bp_sv!, x0, tspan, (paramsBCR4BP.mu))\n",
    "sol_3bp = solve(prob_3bp, Tsit5(), reltol=1e-12, abstol=1e-12);"
   ]
  },
  {
   "cell_type": "code",
   "execution_count": null,
   "metadata": {},
   "outputs": [],
   "source": [
    "ptraj = plot(aspect_ratio=:equal, flip=false)\n",
    "plot!(ptraj, sol, vars=(1,2), flip=false, label=\"bcr4bp\")\n",
    "plot!(ptraj, sol_3bp, vars=(1,2), flip=false, label=\"cr3bp\")\n",
    "ptraj"
   ]
  },
  {
   "cell_type": "markdown",
   "metadata": {},
   "source": [
    "```\n",
    "    \"187\":{\n",
    "        \"mu\":0.012150585609624,\n",
    "        \"family_LPO\":\"L2_Halo_Southern\",\n",
    "        \"Jacobi_LPO\":3.103565886650939,\n",
    "        \"Period_LPO\":3.30357641283143,\n",
    "        \"periluneAlt\":99.997371771836242,\n",
    "        \"raan_loi\":146.878717569880194,\n",
    "        \"incl_loi\":39.725642433027119,\n",
    "        \"loi_cost\":0.643866129730901,\n",
    "        \"beta_loi\":40.0,\n",
    "        \"perigee\":2752.436849085228459,\n",
    "        \"beta_perigee\":26.419002136893269,\n",
    "        \"tof\":-26.905552902086694,\n",
    "        \"periluneEM_baryrot_x\":0.983542426547915,\n",
    "        \"periluneEM_baryrot_y\":-0.000146822341819,\n",
    "        \"periluneEM_baryrot_z\":0.002057787035583,\n",
    "        \"periluneEM_baryrot_vx\":0.565349477000122,\n",
    "        \"periluneEM_baryrot_vy\":-1.872868422392179,\n",
    "        \"periluneEM_baryrot_vz\":1.049658861260682,\n",
    "        \"perigeeEM_baryrot_x\":0.000933711482026,\n",
    "        \"perigeeEM_baryrot_y\":-0.018733931900401,\n",
    "        \"perigeeEM_baryrot_z\":-0.006402981173068,\n",
    "        \"perigeeEM_baryrot_vx\":-0.948514008357327,\n",
    "        \"perigeeEM_baryrot_vy\":-8.841450815035341,\n",
    "        \"perigeeEM_baryrot_vz\":-1.946806641516492\n",
    "    },\n",
    "```"
   ]
  },
  {
   "cell_type": "code",
   "execution_count": null,
   "metadata": {},
   "outputs": [],
   "source": [
    "#include(\"../R3BP/src/R3BP.jl\")"
   ]
  },
  {
   "cell_type": "code",
   "execution_count": null,
   "metadata": {},
   "outputs": [],
   "source": [
    "paramsBCR4BP.ω_s, paramsBCR4BP.tsyn"
   ]
  },
  {
   "cell_type": "code",
   "execution_count": null,
   "metadata": {},
   "outputs": [],
   "source": [
    "# state at perigee\n",
    "x0_prg = [0.000933711482026, -0.018733931900401, -0.006402981173068,\n",
    "         -0.948514008357327, -8.841450815035341, -1.946806641516492]\n",
    "tof_prg = 26.905552902086694\n",
    "t0_prg = 26.419002136893269 * π/180\n",
    "p_prg = (paramsBCR4BP.mu, paramsBCR4BP.μ_3, t0_prg, paramsBCR4BP.a, paramsBCR4BP.ω_s)\n",
    "println(\"tof: $tof_prg\")\n",
    "\n",
    "prob_prg = ODEProblem(R3BP.rhs_bcr4bp_sv!, x0_prg, (0, tof_prg), p_prg,\n",
    "    method=Tsit5(), reltol=1e-12, abstol=1e-12\n",
    ")\n",
    "sol_prg = solve(prob);"
   ]
  },
  {
   "cell_type": "code",
   "execution_count": null,
   "metadata": {},
   "outputs": [],
   "source": [
    "# state at LOI\n",
    "x0_loi = [0.983542426547915, -0.000146822341819, 0.002057787035583,\n",
    "          0.565349477000122, -1.872868422392179, 1.049658861260682]\n",
    "tof_loi = -26.905552902086694\n",
    "t0_loi = 40.0 * π/180\n",
    "p_loi = (paramsBCR4BP.mu, paramsBCR4BP.μ_3, t0_loi, paramsBCR4BP.a, paramsBCR4BP.ω_s)\n",
    "println(\"tof: $tof_loi\")\n",
    "\n",
    "# BCR4BP propagation\n",
    "prob_loi = ODEProblem(R3BP.rhs_bcr4bp_sv!, x0_loi, (0, tof_loi), p_loi)\n",
    "sol_loi = solve(prob, Tsit5(), reltol=1e-12, abstol=1e-12);"
   ]
  },
  {
   "cell_type": "code",
   "execution_count": null,
   "metadata": {},
   "outputs": [],
   "source": [
    "gr()"
   ]
  },
  {
   "cell_type": "code",
   "execution_count": null,
   "metadata": {},
   "outputs": [],
   "source": [
    "plet = plot(aspect_ratio=:equal, flip=false, figsize=(20,20))\n",
    "plot!(plet, sol_loi, vars=(1,2), flip=false, label=\"bcr4bp\")\n",
    "plot!(plet, sol_prg, vars=(1,2), flip=false, label=\"bcr4bp\")\n",
    "plot!(plet, [-paramsBCR4BP.mu], [0.0], marker=:cross, label=\"Earth\")\n",
    "plot!(plet, [1.0-paramsBCR4BP.mu], [0.0], marker=:cross, label=\"Moon\")\n",
    "plot!(plet, [x0_prg[1]], [x0_prg[2]], marker=:cross, label=\"perigee\")\n",
    "plet"
   ]
  },
  {
   "cell_type": "code",
   "execution_count": null,
   "metadata": {},
   "outputs": [],
   "source": []
  }
 ],
 "metadata": {
  "kernelspec": {
   "display_name": "Julia 1.7.0",
   "language": "julia",
   "name": "julia-1.7"
  },
  "language_info": {
   "file_extension": ".jl",
   "mimetype": "application/julia",
   "name": "julia",
   "version": "1.7.0"
  }
 },
 "nbformat": 4,
 "nbformat_minor": 4
}
